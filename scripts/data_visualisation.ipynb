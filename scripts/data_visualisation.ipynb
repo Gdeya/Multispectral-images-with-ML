{
 "cells": [
  {
   "cell_type": "code",
   "execution_count": 1,
   "id": "be5db38e",
   "metadata": {},
   "outputs": [],
   "source": [
    "import pandas as pd\n",
    "import matplotlib.pyplot as plt"
   ]
  },
  {
   "cell_type": "code",
   "execution_count": 2,
   "id": "a1aafb9f",
   "metadata": {},
   "outputs": [],
   "source": [
    "df = pd.read_csv('training_data.csv')"
   ]
  },
  {
   "cell_type": "code",
   "execution_count": 3,
   "id": "c4a7e57b",
   "metadata": {},
   "outputs": [
    {
     "data": {
      "text/html": [
       "<div>\n",
       "<style scoped>\n",
       "    .dataframe tbody tr th:only-of-type {\n",
       "        vertical-align: middle;\n",
       "    }\n",
       "\n",
       "    .dataframe tbody tr th {\n",
       "        vertical-align: top;\n",
       "    }\n",
       "\n",
       "    .dataframe thead th {\n",
       "        text-align: right;\n",
       "    }\n",
       "</style>\n",
       "<table border=\"1\" class=\"dataframe\">\n",
       "  <thead>\n",
       "    <tr style=\"text-align: right;\">\n",
       "      <th></th>\n",
       "      <th>epoch</th>\n",
       "      <th>loss</th>\n",
       "      <th>lr</th>\n",
       "      <th>mean_io_u</th>\n",
       "      <th>precision</th>\n",
       "      <th>recall</th>\n",
       "      <th>val_loss</th>\n",
       "      <th>val_mean_io_u</th>\n",
       "      <th>val_precision</th>\n",
       "      <th>val_recall</th>\n",
       "    </tr>\n",
       "  </thead>\n",
       "  <tbody>\n",
       "    <tr>\n",
       "      <th>0</th>\n",
       "      <td>0</td>\n",
       "      <td>0.570567</td>\n",
       "      <td>0.00010</td>\n",
       "      <td>0.172846</td>\n",
       "      <td>0.760778</td>\n",
       "      <td>0.799126</td>\n",
       "      <td>0.718369</td>\n",
       "      <td>0.183931</td>\n",
       "      <td>0.182355</td>\n",
       "      <td>0.001393</td>\n",
       "    </tr>\n",
       "    <tr>\n",
       "      <th>1</th>\n",
       "      <td>1</td>\n",
       "      <td>0.469040</td>\n",
       "      <td>0.00010</td>\n",
       "      <td>0.172846</td>\n",
       "      <td>0.813996</td>\n",
       "      <td>0.866556</td>\n",
       "      <td>0.873970</td>\n",
       "      <td>0.183931</td>\n",
       "      <td>0.736323</td>\n",
       "      <td>0.000187</td>\n",
       "    </tr>\n",
       "    <tr>\n",
       "      <th>2</th>\n",
       "      <td>2</td>\n",
       "      <td>0.431570</td>\n",
       "      <td>0.00010</td>\n",
       "      <td>0.172846</td>\n",
       "      <td>0.836853</td>\n",
       "      <td>0.862231</td>\n",
       "      <td>2.818167</td>\n",
       "      <td>0.183931</td>\n",
       "      <td>0.000000</td>\n",
       "      <td>0.000000</td>\n",
       "    </tr>\n",
       "    <tr>\n",
       "      <th>3</th>\n",
       "      <td>3</td>\n",
       "      <td>0.394116</td>\n",
       "      <td>0.00010</td>\n",
       "      <td>0.172846</td>\n",
       "      <td>0.852185</td>\n",
       "      <td>0.876458</td>\n",
       "      <td>3.160446</td>\n",
       "      <td>0.183931</td>\n",
       "      <td>0.000000</td>\n",
       "      <td>0.000000</td>\n",
       "    </tr>\n",
       "    <tr>\n",
       "      <th>4</th>\n",
       "      <td>4</td>\n",
       "      <td>0.356726</td>\n",
       "      <td>0.00010</td>\n",
       "      <td>0.172846</td>\n",
       "      <td>0.871194</td>\n",
       "      <td>0.886898</td>\n",
       "      <td>3.704850</td>\n",
       "      <td>0.183931</td>\n",
       "      <td>0.000000</td>\n",
       "      <td>0.000000</td>\n",
       "    </tr>\n",
       "    <tr>\n",
       "      <th>5</th>\n",
       "      <td>5</td>\n",
       "      <td>0.338200</td>\n",
       "      <td>0.00010</td>\n",
       "      <td>0.172846</td>\n",
       "      <td>0.881589</td>\n",
       "      <td>0.898288</td>\n",
       "      <td>3.020489</td>\n",
       "      <td>0.183931</td>\n",
       "      <td>1.000000</td>\n",
       "      <td>0.000019</td>\n",
       "    </tr>\n",
       "    <tr>\n",
       "      <th>6</th>\n",
       "      <td>6</td>\n",
       "      <td>0.273773</td>\n",
       "      <td>0.00001</td>\n",
       "      <td>0.172846</td>\n",
       "      <td>0.913877</td>\n",
       "      <td>0.912415</td>\n",
       "      <td>1.748802</td>\n",
       "      <td>0.183931</td>\n",
       "      <td>0.992434</td>\n",
       "      <td>0.039994</td>\n",
       "    </tr>\n",
       "    <tr>\n",
       "      <th>7</th>\n",
       "      <td>7</td>\n",
       "      <td>0.258527</td>\n",
       "      <td>0.00001</td>\n",
       "      <td>0.172846</td>\n",
       "      <td>0.917593</td>\n",
       "      <td>0.918169</td>\n",
       "      <td>0.997371</td>\n",
       "      <td>0.183931</td>\n",
       "      <td>0.928658</td>\n",
       "      <td>0.280991</td>\n",
       "    </tr>\n",
       "    <tr>\n",
       "      <th>8</th>\n",
       "      <td>8</td>\n",
       "      <td>0.262830</td>\n",
       "      <td>0.00001</td>\n",
       "      <td>0.172846</td>\n",
       "      <td>0.913336</td>\n",
       "      <td>0.922964</td>\n",
       "      <td>0.582794</td>\n",
       "      <td>0.183931</td>\n",
       "      <td>0.888674</td>\n",
       "      <td>0.631267</td>\n",
       "    </tr>\n",
       "    <tr>\n",
       "      <th>9</th>\n",
       "      <td>9</td>\n",
       "      <td>0.247863</td>\n",
       "      <td>0.00001</td>\n",
       "      <td>0.172846</td>\n",
       "      <td>0.924597</td>\n",
       "      <td>0.921297</td>\n",
       "      <td>0.401111</td>\n",
       "      <td>0.183931</td>\n",
       "      <td>0.878600</td>\n",
       "      <td>0.818990</td>\n",
       "    </tr>\n",
       "  </tbody>\n",
       "</table>\n",
       "</div>"
      ],
      "text/plain": [
       "   epoch      loss       lr  mean_io_u  precision    recall  val_loss  \\\n",
       "0      0  0.570567  0.00010   0.172846   0.760778  0.799126  0.718369   \n",
       "1      1  0.469040  0.00010   0.172846   0.813996  0.866556  0.873970   \n",
       "2      2  0.431570  0.00010   0.172846   0.836853  0.862231  2.818167   \n",
       "3      3  0.394116  0.00010   0.172846   0.852185  0.876458  3.160446   \n",
       "4      4  0.356726  0.00010   0.172846   0.871194  0.886898  3.704850   \n",
       "5      5  0.338200  0.00010   0.172846   0.881589  0.898288  3.020489   \n",
       "6      6  0.273773  0.00001   0.172846   0.913877  0.912415  1.748802   \n",
       "7      7  0.258527  0.00001   0.172846   0.917593  0.918169  0.997371   \n",
       "8      8  0.262830  0.00001   0.172846   0.913336  0.922964  0.582794   \n",
       "9      9  0.247863  0.00001   0.172846   0.924597  0.921297  0.401111   \n",
       "\n",
       "   val_mean_io_u  val_precision  val_recall  \n",
       "0       0.183931       0.182355    0.001393  \n",
       "1       0.183931       0.736323    0.000187  \n",
       "2       0.183931       0.000000    0.000000  \n",
       "3       0.183931       0.000000    0.000000  \n",
       "4       0.183931       0.000000    0.000000  \n",
       "5       0.183931       1.000000    0.000019  \n",
       "6       0.183931       0.992434    0.039994  \n",
       "7       0.183931       0.928658    0.280991  \n",
       "8       0.183931       0.888674    0.631267  \n",
       "9       0.183931       0.878600    0.818990  "
      ]
     },
     "execution_count": 3,
     "metadata": {},
     "output_type": "execute_result"
    }
   ],
   "source": [
    "df"
   ]
  },
  {
   "cell_type": "code",
   "execution_count": 7,
   "id": "393ad3ff",
   "metadata": {},
   "outputs": [
    {
     "data": {
      "image/png": "[encoded data removed]",
      "text/plain": [
       "<Figure size 432x288 with 1 Axes>"
      ]
     },
     "metadata": {
      "needs_background": "light"
     },
     "output_type": "display_data"
    }
   ],
   "source": [
    "plt.plot(df.loc[:,'val_recall'])\n",
    "plt.xlabel('Epoch')\n",
    "plt.ylabel('val_recall')\n",
    "plt.show()"
   ]
  },
  {
   "cell_type": "code",
   "execution_count": 4,
   "id": "4627fa2c",
   "metadata": {},
   "outputs": [],
   "source": [
    "df1 = pd.read_csv('rgb_training_data.csv')"
   ]
  },
  {
   "cell_type": "code",
   "execution_count": 11,
   "id": "44d4ab61",
   "metadata": {},
   "outputs": [
    {
     "data": {
      "image/png": "[encoded data removed]",
      "text/plain": [
       "<Figure size 432x288 with 1 Axes>"
      ]
     },
     "metadata": {
      "needs_background": "light"
     },
     "output_type": "display_data"
    }
   ],
   "source": [
    "plt.plot(df.loc[:,'val_recall'], label = 'multispectral')\n",
    "plt.plot(df1.loc[:,'val_recall'], label = 'rgb')\n",
    "plt.xlabel('Epoch')\n",
    "plt.ylabel('val_recall')\n",
    "plt.legend()\n",
    "plt.show()"
   ]
  },
  {
   "cell_type": "code",
   "execution_count": 5,
   "id": "b45daf0a",
   "metadata": {},
   "outputs": [
    {
     "data": {
      "image/png": "[encoded data removed]",
      "text/plain": [
       "<Figure size 432x288 with 1 Axes>"
      ]
     },
     "metadata": {
      "needs_background": "light"
     },
     "output_type": "display_data"
    }
   ],
   "source": [
    "plt.plot(df.loc[:,'val_loss'], label = 'multispectral')\n",
    "plt.plot(df1.loc[:,'val_loss'], label = 'rgb')\n",
    "plt.xlabel('Epoch')\n",
    "plt.ylabel('val_loss')\n",
    "plt.legend()\n",
    "plt.show()"
   ]
  }
 ],
 "metadata": {
  "kernelspec": {
   "display_name": "Python 3 (ipykernel)",
   "language": "python",
   "name": "python3"
  },
  "language_info": {
   "codemirror_mode": {
    "name": "ipython",
    "version": 3
   },
   "file_extension": ".py",
   "mimetype": "text/x-python",
   "name": "python",
   "nbconvert_exporter": "python",
   "pygments_lexer": "ipython3",
   "version": "3.9.12"
  }
 },
 "nbformat": 4,
 "nbformat_minor": 5
}
