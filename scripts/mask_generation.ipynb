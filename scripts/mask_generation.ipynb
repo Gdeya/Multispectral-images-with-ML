{
 "cells": [
  {
   "cell_type": "code",
   "execution_count": 14,
   "id": "2061186a-2d96-4932-9a0a-1f20f1635955",
   "metadata": {},
   "outputs": [],
   "source": [
    "from glob import glob\n",
    "import cv2\n",
    "import pandas as pd\n",
    "import numpy as np\n",
    "from collections import defaultdict\n",
    "import json"
   ]
  },
  {
   "cell_type": "code",
   "execution_count": 4,
   "id": "f93f97ba-f99d-43dc-96ab-77f810e6ddb4",
   "metadata": {},
   "outputs": [],
   "source": [
    "data = pd.read_csv('cv_coords/mask_data.csv')"
   ]
  },
  {
   "cell_type": "code",
   "execution_count": 7,
   "id": "23af5d9b-2dba-4783-8027-b865188f7c90",
   "metadata": {},
   "outputs": [
    {
     "data": {
      "text/html": [
       "<div>\n",
       "<style scoped>\n",
       "    .dataframe tbody tr th:only-of-type {\n",
       "        vertical-align: middle;\n",
       "    }\n",
       "\n",
       "    .dataframe tbody tr th {\n",
       "        vertical-align: top;\n",
       "    }\n",
       "\n",
       "    .dataframe thead th {\n",
       "        text-align: right;\n",
       "    }\n",
       "</style>\n",
       "<table border=\"1\" class=\"dataframe\">\n",
       "  <thead>\n",
       "    <tr style=\"text-align: right;\">\n",
       "      <th></th>\n",
       "      <th>filename</th>\n",
       "      <th>file_size</th>\n",
       "      <th>file_attributes</th>\n",
       "      <th>region_count</th>\n",
       "      <th>region_id</th>\n",
       "      <th>region_shape_attributes</th>\n",
       "      <th>region_attributes</th>\n",
       "    </tr>\n",
       "  </thead>\n",
       "  <tbody>\n",
       "    <tr>\n",
       "      <th>0</th>\n",
       "      <td>split1_0010.JPG</td>\n",
       "      <td>957332</td>\n",
       "      <td>{}</td>\n",
       "      <td>8</td>\n",
       "      <td>0</td>\n",
       "      <td>{\"name\":\"polygon\",\"all_points_x\":[5,808,12],\"a...</td>\n",
       "      <td>{}</td>\n",
       "    </tr>\n",
       "    <tr>\n",
       "      <th>1</th>\n",
       "      <td>split1_0010.JPG</td>\n",
       "      <td>957332</td>\n",
       "      <td>{}</td>\n",
       "      <td>8</td>\n",
       "      <td>1</td>\n",
       "      <td>{\"name\":\"polygon\",\"all_points_x\":[345,527,742]...</td>\n",
       "      <td>{}</td>\n",
       "    </tr>\n",
       "    <tr>\n",
       "      <th>2</th>\n",
       "      <td>split1_0010.JPG</td>\n",
       "      <td>957332</td>\n",
       "      <td>{}</td>\n",
       "      <td>8</td>\n",
       "      <td>2</td>\n",
       "      <td>{\"name\":\"polygon\",\"all_points_x\":[568,719,1128...</td>\n",
       "      <td>{}</td>\n",
       "    </tr>\n",
       "    <tr>\n",
       "      <th>3</th>\n",
       "      <td>split1_0010.JPG</td>\n",
       "      <td>957332</td>\n",
       "      <td>{}</td>\n",
       "      <td>8</td>\n",
       "      <td>3</td>\n",
       "      <td>{\"name\":\"polygon\",\"all_points_x\":[906,1073,127...</td>\n",
       "      <td>{}</td>\n",
       "    </tr>\n",
       "    <tr>\n",
       "      <th>4</th>\n",
       "      <td>split1_0010.JPG</td>\n",
       "      <td>957332</td>\n",
       "      <td>{}</td>\n",
       "      <td>8</td>\n",
       "      <td>4</td>\n",
       "      <td>{\"name\":\"polygon\",\"all_points_x\":[762,904,1307...</td>\n",
       "      <td>{}</td>\n",
       "    </tr>\n",
       "    <tr>\n",
       "      <th>...</th>\n",
       "      <td>...</td>\n",
       "      <td>...</td>\n",
       "      <td>...</td>\n",
       "      <td>...</td>\n",
       "      <td>...</td>\n",
       "      <td>...</td>\n",
       "      <td>...</td>\n",
       "    </tr>\n",
       "    <tr>\n",
       "      <th>1563</th>\n",
       "      <td>split10_0320.JPG</td>\n",
       "      <td>971970</td>\n",
       "      <td>{}</td>\n",
       "      <td>3</td>\n",
       "      <td>2</td>\n",
       "      <td>{\"name\":\"polygon\",\"all_points_x\":[1172,1223,13...</td>\n",
       "      <td>{}</td>\n",
       "    </tr>\n",
       "    <tr>\n",
       "      <th>1564</th>\n",
       "      <td>split10_0330.JPG</td>\n",
       "      <td>904484</td>\n",
       "      <td>{}</td>\n",
       "      <td>2</td>\n",
       "      <td>0</td>\n",
       "      <td>{\"name\":\"polygon\",\"all_points_x\":[4,152,511,49...</td>\n",
       "      <td>{}</td>\n",
       "    </tr>\n",
       "    <tr>\n",
       "      <th>1565</th>\n",
       "      <td>split10_0330.JPG</td>\n",
       "      <td>904484</td>\n",
       "      <td>{}</td>\n",
       "      <td>2</td>\n",
       "      <td>1</td>\n",
       "      <td>{\"name\":\"polygon\",\"all_points_x\":[457,964,1451...</td>\n",
       "      <td>{}</td>\n",
       "    </tr>\n",
       "    <tr>\n",
       "      <th>1566</th>\n",
       "      <td>split10_0340.JPG</td>\n",
       "      <td>907113</td>\n",
       "      <td>{}</td>\n",
       "      <td>2</td>\n",
       "      <td>0</td>\n",
       "      <td>{\"name\":\"polygon\",\"all_points_x\":[173,4,7,277,...</td>\n",
       "      <td>{}</td>\n",
       "    </tr>\n",
       "    <tr>\n",
       "      <th>1567</th>\n",
       "      <td>split10_0340.JPG</td>\n",
       "      <td>907113</td>\n",
       "      <td>{}</td>\n",
       "      <td>2</td>\n",
       "      <td>1</td>\n",
       "      <td>{\"name\":\"polygon\",\"all_points_x\":[503,744,1596...</td>\n",
       "      <td>{}</td>\n",
       "    </tr>\n",
       "  </tbody>\n",
       "</table>\n",
       "<p>1568 rows × 7 columns</p>\n",
       "</div>"
      ],
      "text/plain": [
       "              filename  file_size file_attributes  region_count  region_id  \\\n",
       "0      split1_0010.JPG     957332              {}             8          0   \n",
       "1      split1_0010.JPG     957332              {}             8          1   \n",
       "2      split1_0010.JPG     957332              {}             8          2   \n",
       "3      split1_0010.JPG     957332              {}             8          3   \n",
       "4      split1_0010.JPG     957332              {}             8          4   \n",
       "...                ...        ...             ...           ...        ...   \n",
       "1563  split10_0320.JPG     971970              {}             3          2   \n",
       "1564  split10_0330.JPG     904484              {}             2          0   \n",
       "1565  split10_0330.JPG     904484              {}             2          1   \n",
       "1566  split10_0340.JPG     907113              {}             2          0   \n",
       "1567  split10_0340.JPG     907113              {}             2          1   \n",
       "\n",
       "                                region_shape_attributes region_attributes  \n",
       "0     {\"name\":\"polygon\",\"all_points_x\":[5,808,12],\"a...                {}  \n",
       "1     {\"name\":\"polygon\",\"all_points_x\":[345,527,742]...                {}  \n",
       "2     {\"name\":\"polygon\",\"all_points_x\":[568,719,1128...                {}  \n",
       "3     {\"name\":\"polygon\",\"all_points_x\":[906,1073,127...                {}  \n",
       "4     {\"name\":\"polygon\",\"all_points_x\":[762,904,1307...                {}  \n",
       "...                                                 ...               ...  \n",
       "1563  {\"name\":\"polygon\",\"all_points_x\":[1172,1223,13...                {}  \n",
       "1564  {\"name\":\"polygon\",\"all_points_x\":[4,152,511,49...                {}  \n",
       "1565  {\"name\":\"polygon\",\"all_points_x\":[457,964,1451...                {}  \n",
       "1566  {\"name\":\"polygon\",\"all_points_x\":[173,4,7,277,...                {}  \n",
       "1567  {\"name\":\"polygon\",\"all_points_x\":[503,744,1596...                {}  \n",
       "\n",
       "[1568 rows x 7 columns]"
      ]
     },
     "execution_count": 7,
     "metadata": {},
     "output_type": "execute_result"
    }
   ],
   "source": [
    "data"
   ]
  },
  {
   "cell_type": "code",
   "execution_count": 19,
   "id": "2e3a8820-834c-4eaf-8806-6e1c734c7a9a",
   "metadata": {},
   "outputs": [
    {
     "data": {
      "text/plain": [
       "[5, 808, 12]"
      ]
     },
     "execution_count": 19,
     "metadata": {},
     "output_type": "execute_result"
    }
   ],
   "source": [
    "json.loads(data.loc[0,'region_shape_attributes'])['all_points_x']"
   ]
  },
  {
   "cell_type": "code",
   "execution_count": 125,
   "id": "716177a1-59c4-46ac-a5e4-27c821322307",
   "metadata": {},
   "outputs": [],
   "source": [
    "ddict = defaultdict(list)"
   ]
  },
  {
   "cell_type": "code",
   "execution_count": 126,
   "id": "9ef8ebe2-1288-407b-87a8-b11fac7bbab4",
   "metadata": {},
   "outputs": [
    {
     "name": "stdout",
     "output_type": "stream",
     "text": [
      "Filename with no fields: split4_0010.JPG\n",
      "Filename with no fields: split4_0020.JPG\n",
      "Filename with no fields: split7_0010.JPG\n",
      "Filename with no fields: split7_0020.JPG\n",
      "Filename with no fields: split7_0030.JPG\n",
      "Filename with no fields: split7_0040.JPG\n",
      "Filename with no fields: split7_0350.JPG\n"
     ]
    }
   ],
   "source": [
    "for i in range (data.shape[0]):\n",
    "    file_name = data.loc[i,'filename']\n",
    "    try:\n",
    "        tmp = json.loads(data.loc[i,'region_shape_attributes'])\n",
    "        tmp_x = tmp['all_points_x']\n",
    "        tmp_y = tmp['all_points_y']\n",
    "    except:\n",
    "        print(f'Filename with no fields: {file_name}')\n",
    "        ddict[file_name] = []\n",
    "        continue\n",
    "    all_points = []\n",
    "    for ind, x in enumerate(tmp_x):\n",
    "        all_points.append([x,tmp_y[ind]])\n",
    "    ddict[file_name].append(all_points)"
   ]
  },
  {
   "cell_type": "code",
   "execution_count": 127,
   "id": "7fe37b2f-44fd-4982-9116-46644d945eb8",
   "metadata": {},
   "outputs": [],
   "source": [
    "for file_name in ddict:\n",
    "    tmp = np.zeros((1300,1600))\n",
    "    arr = ddict[file_name]\n",
    "    if len(arr) != 0:\n",
    "        for poly in arr:\n",
    "            cv2.fillPoly(tmp, [np.array(poly)], color=(1))\n",
    "    cv2.imwrite(f'..\\\\multispectral_dataset\\\\masks\\\\{file_name}'.replace('JPG','png'), tmp)  "
   ]
  },
  {
   "cell_type": "code",
   "execution_count": 116,
   "id": "35df52e9-7cd0-4c75-841e-ba7c96cdd958",
   "metadata": {},
   "outputs": [
    {
     "data": {
      "text/plain": [
       "[[[5, 860], [808, 15], [12, 18]],\n",
       " [[345, 1280], [527, 1111], [742, 1282]],\n",
       " [[568, 1083], [719, 939], [1128, 1260], [808, 1280]],\n",
       " [[906, 664], [1073, 504], [1272, 803], [1385, 926], [1323, 992]],\n",
       " [[762, 878], [904, 699], [1307, 1058], [1202, 1241]],\n",
       " [[1588, 964], [1313, 1289], [1587, 1292]],\n",
       " [[1279, 253], [1390, 109], [1585, 270], [1582, 515]],\n",
       " [[1428, 70], [1481, 5], [1587, 2], [1587, 202]]]"
      ]
     },
     "execution_count": 116,
     "metadata": {},
     "output_type": "execute_result"
    }
   ],
   "source": [
    "(ddict['split1_0010.JPG'])"
   ]
  },
  {
   "cell_type": "code",
   "execution_count": 128,
   "id": "04e05b27-5a00-4979-b7e3-939a2de97473",
   "metadata": {},
   "outputs": [],
   "source": [
    "mask = cv2.imread('..\\\\multispectral_dataset\\\\masks\\\\split1_0010.png', cv2.IMREAD_GRAYSCALE)"
   ]
  },
  {
   "cell_type": "code",
   "execution_count": 104,
   "id": "17ba5120-a9ee-4949-965c-3fcf3d8aef1f",
   "metadata": {},
   "outputs": [
    {
     "data": {
      "text/plain": [
       "array([[0, 0, 0, ..., 0, 0, 0],\n",
       "       [0, 0, 0, ..., 0, 0, 0],\n",
       "       [0, 0, 0, ..., 0, 0, 0],\n",
       "       ...,\n",
       "       [0, 0, 0, ..., 0, 0, 0],\n",
       "       [0, 0, 0, ..., 0, 0, 0],\n",
       "       [0, 0, 0, ..., 0, 0, 0]], dtype=uint8)"
      ]
     },
     "execution_count": 104,
     "metadata": {},
     "output_type": "execute_result"
    }
   ],
   "source": [
    "cv2.fillPoly(mask, [np.array(ddict['split1_0010.JPG'][0])], color=(1))"
   ]
  },
  {
   "cell_type": "code",
   "execution_count": 129,
   "id": "b78c8d74-abb2-4cec-ae57-03133ce98142",
   "metadata": {},
   "outputs": [],
   "source": [
    "mask[mask>0]=255"
   ]
  },
  {
   "cell_type": "code",
   "execution_count": 123,
   "id": "36dae6c0-a412-470e-924a-6475e116eb94",
   "metadata": {},
   "outputs": [],
   "source": [
    "cv2.imshow('HelloWorld', mask)\n",
    "cv2.waitKey() #image will not show until this is called\n",
    "cv2.destroyWindow('HelloWorld') #make sure window closes cleanly"
   ]
  },
  {
   "cell_type": "code",
   "execution_count": 130,
   "id": "aec5583c-2a6f-4c61-abc6-7f4c0d79836b",
   "metadata": {},
   "outputs": [
    {
     "data": {
      "text/plain": [
       "True"
      ]
     },
     "execution_count": 130,
     "metadata": {},
     "output_type": "execute_result"
    }
   ],
   "source": [
    "cv2.imwrite('..\\\\multispectral_dataset\\\\masks\\\\test.png', mask) "
   ]
  }
 ],
 "metadata": {
  "kernelspec": {
   "display_name": "Python 3 (ipykernel)",
   "language": "python",
   "name": "python3"
  },
  "language_info": {
   "codemirror_mode": {
    "name": "ipython",
    "version": 3
   },
   "file_extension": ".py",
   "mimetype": "text/x-python",
   "name": "python",
   "nbconvert_exporter": "python",
   "pygments_lexer": "ipython3",
   "version": "3.9.12"
  }
 },
 "nbformat": 4,
 "nbformat_minor": 5
}
