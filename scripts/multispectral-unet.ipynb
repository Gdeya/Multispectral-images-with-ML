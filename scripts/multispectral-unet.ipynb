{
 "cells": [
  {
   "cell_type": "markdown",
   "metadata": {},
   "source": [
    "### Import required library and packages"
   ]
  },
  {
   "cell_type": "code",
   "execution_count": 2,
   "metadata": {
    "_cell_guid": "b1076dfc-b9ad-4769-8c92-a6c4dae69d19",
    "_uuid": "8f2839f25d086af736a60e9eeb907d3b93b6e0e5",
    "tags": []
   },
   "outputs": [
    {
     "name": "stderr",
     "output_type": "stream",
     "text": [
      "2023-04-28 16:31:15.661357: I tensorflow/core/platform/cpu_feature_guard.cc:194] This TensorFlow binary is optimized with oneAPI Deep Neural Network Library (oneDNN) to use the following CPU instructions in performance-critical operations:  SSE3 SSE4.1 SSE4.2 AVX\n",
      "To enable them in other operations, rebuild TensorFlow with the appropriate compiler flags.\n",
      "2023-04-28 16:31:15.784558: I tensorflow/core/util/util.cc:169] oneDNN custom operations are on. You may see slightly different numerical results due to floating-point round-off errors from different computation orders. To turn them off, set the environment variable `TF_ENABLE_ONEDNN_OPTS=0`.\n"
     ]
    }
   ],
   "source": [
    "import os\n",
    "import numpy as np\n",
    "import cv2\n",
    "from glob import glob\n",
    "from sklearn.model_selection import train_test_split\n",
    "import tensorflow as tf\n",
    "from tensorflow.keras.models import Model\n",
    "from tensorflow.keras.layers import Conv2D, BatchNormalization, Activation, MaxPool2D, Conv2DTranspose, Concatenate, Input\n",
    "from tensorflow.keras.callbacks import ModelCheckpoint, ReduceLROnPlateau, CSVLogger, EarlyStopping\n",
    "import matplotlib.pyplot as plt\n",
    "from tqdm import tqdm\n",
    "import urllib\n",
    "import IPython"
   ]
  },
  {
   "cell_type": "markdown",
   "metadata": {},
   "source": [
    "## Build UNet Architecture"
   ]
  },
  {
   "cell_type": "code",
   "execution_count": 6,
   "metadata": {
    "tags": []
   },
   "outputs": [],
   "source": [
    "def conv_block(inputs, num_filters):\n",
    "    x = Conv2D(num_filters, 3, padding='same')(inputs)\n",
    "    x = BatchNormalization()(x)\n",
    "    x = Activation(\"relu\")(x)\n",
    "\n",
    "    x = Conv2D(num_filters, 3, padding='same')(x)\n",
    "    x = BatchNormalization()(x)\n",
    "    x = Activation(\"relu\")(x)\n",
    "\n",
    "    return x"
   ]
  },
  {
   "cell_type": "code",
   "execution_count": 7,
   "metadata": {
    "tags": []
   },
   "outputs": [],
   "source": [
    "def encoder_block(inputs, num_filters):\n",
    "    x = conv_block(inputs, num_filters)\n",
    "    p = MaxPool2D((2, 2))(x)\n",
    "    return x, p"
   ]
  },
  {
   "cell_type": "code",
   "execution_count": 8,
   "metadata": {
    "tags": []
   },
   "outputs": [],
   "source": [
    "def decoder_block(inputs, skip_features, num_filters):\n",
    "    x = Conv2DTranspose(num_filters, (2, 2), strides=2, padding='same')(inputs)\n",
    "    x = Concatenate()([x, skip_features])\n",
    "    x = conv_block(x, num_filters)\n",
    "    return x"
   ]
  },
  {
   "cell_type": "code",
   "execution_count": 9,
   "metadata": {
    "tags": []
   },
   "outputs": [],
   "source": [
    "def build_unet(input_shape):\n",
    "    inputs = Input(input_shape)\n",
    "\n",
    "    \"\"\" Encoder \"\"\"\n",
    "    s1, p1 = encoder_block(inputs, 64)\n",
    "    s2, p2 = encoder_block(p1, 128)\n",
    "    s3, p3 = encoder_block(p2, 256)\n",
    "    s4, p4 = encoder_block(p3, 512)\n",
    "    b1 = conv_block(p4, 1024)\n",
    "\n",
    "    \"\"\" Decoder \"\"\"\n",
    "    d1 = decoder_block(b1, s4, 512)\n",
    "    d2 = decoder_block(d1, s3, 256)\n",
    "    d3 = decoder_block(d2, s2, 128)\n",
    "    d4 = decoder_block(d3, s1, 64)\n",
    "\n",
    "    \"\"\" Output \"\"\"\n",
    "    outputs = Conv2D(1, (1, 1), padding=\"same\", activation=\"sigmoid\")(d4)\n",
    "    return Model(inputs, outputs, name=\"U-Net\")"
   ]
  },
  {
   "cell_type": "code",
   "execution_count": 12,
   "metadata": {
    "tags": []
   },
   "outputs": [],
   "source": [
    "def load_data(dataset_path):\n",
    "    images = sorted(glob(os.path.join(dataset_path, \"images/*0.JPG\")))\n",
    "    masks = sorted(glob(os.path.join(dataset_path, \"masks/*\")))\n",
    "    train_x, test_x = train_test_split(images, test_size=0.2, random_state=42)\n",
    "    train_y, test_y = train_test_split(masks, test_size=0.2, random_state=42)\n",
    "    return (train_x, train_y), (test_x, test_y)"
   ]
  },
  {
   "cell_type": "code",
   "execution_count": 15,
   "metadata": {
    "tags": []
   },
   "outputs": [],
   "source": [
    "def read_image(path):\n",
    "    x = cv2.imread(path, cv2.IMREAD_COLOR)\n",
    "    for i in range(1,6):\n",
    "        tmp_channel = cv2.imread(\"\".join([path[:-5],f'{i}.TIF']), cv2.IMREAD_GRAYSCALE)\n",
    "        x = cv2.merge((x,tmp_channel))\n",
    "    x = cv2.resize(x, (256, 256))\n",
    "    x = x/255.0\n",
    "    x = x.astype(np.float32)\n",
    "    # (256, 256, 8)\n",
    "    return x"
   ]
  },
  {
   "cell_type": "code",
   "execution_count": 14,
   "metadata": {
    "tags": []
   },
   "outputs": [],
   "source": [
    "def read_mask(path):\n",
    "    x = cv2.imread(path, cv2.IMREAD_GRAYSCALE)\n",
    "    x = cv2.resize(x, (256, 256))\n",
    "    x = x.astype(np.float32)\n",
    "    x = np.expand_dims(x, axis=-1)\n",
    "    return x"
   ]
  },
  {
   "cell_type": "code",
   "execution_count": 13,
   "metadata": {
    "tags": []
   },
   "outputs": [],
   "source": [
    "def preprocess(image_path, mask_path):\n",
    "    def f(image_path, mask_path):\n",
    "        image_path = image_path.decode()\n",
    "        mask_path = mask_path.decode()\n",
    "        x = read_image(image_path)\n",
    "        y = read_mask(mask_path)\n",
    "        return x, y\n",
    "    image, mask = tf.numpy_function(f, [image_path, mask_path], [tf.float32, tf.float32])\n",
    "    image.set_shape([256, 256, 8])\n",
    "    mask.set_shape([256, 256, 1])\n",
    "    return image, mask"
   ]
  },
  {
   "cell_type": "code",
   "execution_count": 16,
   "metadata": {
    "tags": []
   },
   "outputs": [],
   "source": [
    "def tf_dataset(images, masks, batch=8):\n",
    "    dataset = tf.data.Dataset.from_tensor_slices((images, masks))\n",
    "    dataset = dataset.shuffle(buffer_size=5000)\n",
    "    dataset = dataset.map(preprocess)\n",
    "    dataset = dataset.batch(batch)\n",
    "    dataset = dataset.prefetch(2)\n",
    "    return dataset"
   ]
  },
  {
   "cell_type": "code",
   "execution_count": 11,
   "metadata": {
    "tags": []
   },
   "outputs": [
    {
     "name": "stderr",
     "output_type": "stream",
     "text": [
      "2023-03-27 16:49:04.419607: I tensorflow/core/platform/cpu_feature_guard.cc:193] This TensorFlow binary is optimized with oneAPI Deep Neural Network Library (oneDNN) to use the following CPU instructions in performance-critical operations:  AVX2 AVX512F AVX512_VNNI FMA\n",
      "To enable them in other operations, rebuild TensorFlow with the appropriate compiler flags.\n",
      "2023-03-27 16:49:05.520265: I tensorflow/core/common_runtime/gpu/gpu_device.cc:1613] Created device /job:localhost/replica:0/task:0/device:GPU:0 with 78971 MB memory:  -> device: 0, name: NVIDIA A100 80GB PCIe, pci bus id: 0000:31:00.0, compute capability: 8.0\n",
      "2023-03-27 16:49:05.521478: I tensorflow/core/common_runtime/gpu/gpu_device.cc:1613] Created device /job:localhost/replica:0/task:0/device:GPU:1 with 78971 MB memory:  -> device: 1, name: NVIDIA A100 80GB PCIe, pci bus id: 0000:98:00.0, compute capability: 8.0\n"
     ]
    },
    {
     "name": "stdout",
     "output_type": "stream",
     "text": [
      "INFO:tensorflow:Using MirroredStrategy with devices ('/job:localhost/replica:0/task:0/device:GPU:0', '/job:localhost/replica:0/task:0/device:GPU:1')\n"
     ]
    }
   ],
   "source": [
    "#mirrored_strategy = tf.distribute.MirroredStrategy()"
   ]
  },
  {
   "cell_type": "markdown",
   "metadata": {},
   "source": [
    "### Train the model"
   ]
  },
  {
   "cell_type": "code",
   "execution_count": 17,
   "metadata": {
    "tags": []
   },
   "outputs": [
    {
     "name": "stderr",
     "output_type": "stream",
     "text": [
      "2023-04-28 16:12:04.500767: I tensorflow/core/platform/cpu_feature_guard.cc:194] This TensorFlow binary is optimized with oneAPI Deep Neural Network Library (oneDNN) to use the following CPU instructions in performance-critical operations:  SSE3 SSE4.1 SSE4.2 AVX\n",
      "To enable them in other operations, rebuild TensorFlow with the appropriate compiler flags.\n",
      "2023-04-28 16:12:04.670643: I tensorflow/core/common_runtime/gpu/gpu_device.cc:1637] Created device /job:localhost/replica:0/task:0/device:GPU:0 with 18026 MB memory:  -> device: 0, name: NVIDIA A100 80GB PCIe MIG 2g.20gb, pci bus id: 0000:98:00.0, compute capability: 8.0\n"
     ]
    },
    {
     "name": "stdout",
     "output_type": "stream",
     "text": [
      "Epoch 1/10\n"
     ]
    },
    {
     "name": "stderr",
     "output_type": "stream",
     "text": [
      "2023-04-28 16:12:09.878133: I tensorflow/stream_executor/cuda/cuda_dnn.cc:424] Loaded cuDNN version 8700\n"
     ]
    },
    {
     "name": "stdout",
     "output_type": "stream",
     "text": [
      "53/53 [==============================] - ETA: 0s - loss: 0.5706 - mean_io_u: 0.1728 - recall: 0.7991 - precision: 0.7608\n",
      "Epoch 1: saving model to saved_models/unet.h5\n",
      "53/53 [==============================] - 93s 2s/step - loss: 0.5706 - mean_io_u: 0.1728 - recall: 0.7991 - precision: 0.7608 - val_loss: 0.7184 - val_mean_io_u: 0.1839 - val_recall: 0.0014 - val_precision: 0.1824 - lr: 1.0000e-04\n",
      "Epoch 2/10\n",
      "53/53 [==============================] - ETA: 0s - loss: 0.4690 - mean_io_u: 0.1728 - recall: 0.8666 - precision: 0.8140\n",
      "Epoch 2: saving model to saved_models/unet.h5\n",
      "53/53 [==============================] - 61s 1s/step - loss: 0.4690 - mean_io_u: 0.1728 - recall: 0.8666 - precision: 0.8140 - val_loss: 0.8740 - val_mean_io_u: 0.1839 - val_recall: 1.8696e-04 - val_precision: 0.7363 - lr: 1.0000e-04\n",
      "Epoch 3/10\n",
      "53/53 [==============================] - ETA: 0s - loss: 0.4316 - mean_io_u: 0.1728 - recall: 0.8622 - precision: 0.8369\n",
      "Epoch 3: saving model to saved_models/unet.h5\n",
      "53/53 [==============================] - 63s 1s/step - loss: 0.4316 - mean_io_u: 0.1728 - recall: 0.8622 - precision: 0.8369 - val_loss: 2.8182 - val_mean_io_u: 0.1839 - val_recall: 0.0000e+00 - val_precision: 0.0000e+00 - lr: 1.0000e-04\n",
      "Epoch 4/10\n",
      "53/53 [==============================] - ETA: 0s - loss: 0.3941 - mean_io_u: 0.1728 - recall: 0.8765 - precision: 0.8522\n",
      "Epoch 4: saving model to saved_models/unet.h5\n",
      "53/53 [==============================] - 64s 1s/step - loss: 0.3941 - mean_io_u: 0.1728 - recall: 0.8765 - precision: 0.8522 - val_loss: 3.1604 - val_mean_io_u: 0.1839 - val_recall: 0.0000e+00 - val_precision: 0.0000e+00 - lr: 1.0000e-04\n",
      "Epoch 5/10\n",
      "53/53 [==============================] - ETA: 0s - loss: 0.3567 - mean_io_u: 0.1728 - recall: 0.8869 - precision: 0.8712\n",
      "Epoch 5: saving model to saved_models/unet.h5\n",
      "53/53 [==============================] - 63s 1s/step - loss: 0.3567 - mean_io_u: 0.1728 - recall: 0.8869 - precision: 0.8712 - val_loss: 3.7048 - val_mean_io_u: 0.1839 - val_recall: 0.0000e+00 - val_precision: 0.0000e+00 - lr: 1.0000e-04\n",
      "Epoch 6/10\n",
      "53/53 [==============================] - ETA: 0s - loss: 0.3382 - mean_io_u: 0.1728 - recall: 0.8983 - precision: 0.8816\n",
      "Epoch 6: saving model to saved_models/unet.h5\n",
      "\n",
      "Epoch 6: ReduceLROnPlateau reducing learning rate to 9.999999747378752e-06.\n",
      "53/53 [==============================] - 62s 1s/step - loss: 0.3382 - mean_io_u: 0.1728 - recall: 0.8983 - precision: 0.8816 - val_loss: 3.0205 - val_mean_io_u: 0.1839 - val_recall: 1.9129e-05 - val_precision: 1.0000 - lr: 1.0000e-04\n",
      "Epoch 7/10\n",
      "53/53 [==============================] - ETA: 0s - loss: 0.2738 - mean_io_u: 0.1728 - recall: 0.9124 - precision: 0.9139\n",
      "Epoch 7: saving model to saved_models/unet.h5\n",
      "53/53 [==============================] - 58s 1s/step - loss: 0.2738 - mean_io_u: 0.1728 - recall: 0.9124 - precision: 0.9139 - val_loss: 1.7488 - val_mean_io_u: 0.1839 - val_recall: 0.0400 - val_precision: 0.9924 - lr: 1.0000e-05\n",
      "Epoch 8/10\n",
      "53/53 [==============================] - ETA: 0s - loss: 0.2585 - mean_io_u: 0.1728 - recall: 0.9182 - precision: 0.9176\n",
      "Epoch 8: saving model to saved_models/unet.h5\n",
      "53/53 [==============================] - 62s 1s/step - loss: 0.2585 - mean_io_u: 0.1728 - recall: 0.9182 - precision: 0.9176 - val_loss: 0.9974 - val_mean_io_u: 0.1839 - val_recall: 0.2810 - val_precision: 0.9287 - lr: 1.0000e-05\n",
      "Epoch 9/10\n",
      "53/53 [==============================] - ETA: 0s - loss: 0.2628 - mean_io_u: 0.1728 - recall: 0.9230 - precision: 0.9133\n",
      "Epoch 9: saving model to saved_models/unet.h5\n",
      "53/53 [==============================] - 64s 1s/step - loss: 0.2628 - mean_io_u: 0.1728 - recall: 0.9230 - precision: 0.9133 - val_loss: 0.5828 - val_mean_io_u: 0.1839 - val_recall: 0.6313 - val_precision: 0.8887 - lr: 1.0000e-05\n",
      "Epoch 10/10\n",
      "53/53 [==============================] - ETA: 0s - loss: 0.2479 - mean_io_u: 0.1728 - recall: 0.9213 - precision: 0.9246\n",
      "Epoch 10: saving model to saved_models/unet.h5\n",
      "53/53 [==============================] - 59s 1s/step - loss: 0.2479 - mean_io_u: 0.1728 - recall: 0.9213 - precision: 0.9246 - val_loss: 0.4011 - val_mean_io_u: 0.1839 - val_recall: 0.8190 - val_precision: 0.8786 - lr: 1.0000e-05\n"
     ]
    },
    {
     "data": {
      "text/plain": [
       "<keras.callbacks.History at 0x7fc4461e0040>"
      ]
     },
     "execution_count": 17,
     "metadata": {},
     "output_type": "execute_result"
    }
   ],
   "source": [
    "\"\"\" Hyperparameters \"\"\"\n",
    "dataset_path = \"multispectral_dataset\"\n",
    "input_shape = (256, 256, 8)\n",
    "batch_size = 8\n",
    "epochs = 10\n",
    "lr = 1e-4\n",
    "model_path = \"saved_models/unet.h5\"\n",
    "csv_path = \"data.csv\"\n",
    "\n",
    "\"\"\" Loading the dataset \"\"\"\n",
    "(train_x, train_y), (test_x, test_y) = load_data(dataset_path)\n",
    "\n",
    "train_dataset = tf_dataset(train_x, train_y, batch=batch_size)\n",
    "valid_dataset = tf_dataset(test_x, test_y, batch=batch_size)\n",
    "\n",
    "\"\"\" Model \"\"\"\n",
    "#with mirrored_strategy.scope():\n",
    "model = build_unet(input_shape)\n",
    "model.compile(\n",
    "    loss=\"binary_crossentropy\",\n",
    "    optimizer=tf.keras.optimizers.Adam(lr),\n",
    "    metrics=[\n",
    "        tf.keras.metrics.MeanIoU(num_classes=2),\n",
    "        tf.keras.metrics.Recall(),\n",
    "        tf.keras.metrics.Precision()\n",
    "    ]\n",
    ")\n",
    "\n",
    "callbacks = [\n",
    "    ModelCheckpoint(model_path, monitor=\"val_loss\", verbose=1),\n",
    "    ReduceLROnPlateau(monitor=\"val_loss\", patience=5, factor=0.1, verbose=1),\n",
    "    CSVLogger(csv_path),\n",
    "    EarlyStopping(monitor=\"val_loss\", patience=10)\n",
    "]\n",
    "\n",
    "train_steps = len(train_x)//batch_size\n",
    "if len(train_x) % batch_size != 0:\n",
    "    train_steps += 1\n",
    "    \n",
    "valid_steps = len(test_x)//batch_size\n",
    "if len(test_x) % batch_size != 0:\n",
    "    valid_steps += 1\n",
    "\n",
    "model.fit(\n",
    "    train_dataset,\n",
    "    validation_data=valid_dataset,\n",
    "    epochs = epochs,\n",
    "    steps_per_epoch=train_steps,\n",
    "    validation_steps=valid_steps,\n",
    "    callbacks=callbacks\n",
    ")"
   ]
  },
  {
   "cell_type": "markdown",
   "metadata": {},
   "source": [
    "### Test the model"
   ]
  },
  {
   "cell_type": "code",
   "execution_count": 16,
   "metadata": {
    "tags": []
   },
   "outputs": [
    {
     "name": "stderr",
     "output_type": "stream",
     "text": [
      "  0%|                                                     | 0/1 [00:00<?, ?it/s]"
     ]
    },
    {
     "name": "stdout",
     "output_type": "stream",
     "text": [
      "1/1 [==============================] - 1s 879ms/step\n"
     ]
    },
    {
     "name": "stderr",
     "output_type": "stream",
     "text": [
      "100%|█████████████████████████████████████████████| 1/1 [00:01<00:00,  1.72s/it]\n"
     ]
    }
   ],
   "source": [
    "# https://raw.githubusercontent.com/nikhilroxtomar/Unet-for-Person-Segmentation/main/images/Black-Widow-Avengers.jpg\n",
    "\n",
    "#test_images = glob(\"images/*\")\n",
    "\n",
    "\n",
    "test_images = [\n",
    "    'https://raw.githubusercontent.com/nikhilroxtomar/Unet-for-Person-Segmentation/main/images/Black-Widow-Avengers.jpg'\n",
    "]\n",
    "\n",
    "model = tf.keras.models.load_model(\"saved_models/unet.h5\")\n",
    "for path in tqdm(test_images, total=len(test_images)):\n",
    "    \n",
    "    req = urllib.request.urlopen(path)\n",
    "    imgarr = np.asarray(bytearray(req.read()), dtype=np.uint8)\n",
    "    \n",
    "    x = cv2.imdecode(imgarr, -1)\n",
    "    \n",
    "    #x = cv2.imread(path, cv2.IMREAD_COLOR)\n",
    "    original_image = x\n",
    "    h, w, _ = x.shape\n",
    "    \n",
    "    x = cv2.resize(x, (256, 256))\n",
    "    x = x/255.0\n",
    "    x = x.astype(np.float32)\n",
    "    x = np.expand_dims(x, axis=0)\n",
    "\n",
    "    pred_mask = model.predict(x)[0]\n",
    "    pred_mask = cv2.resize(pred_mask, (w, h))\n",
    "    pred_mask = np.expand_dims(pred_mask, axis=-1)\n",
    "    pred_mask = pred_mask > 0.5\n",
    "    \n",
    "    background_mask = np.abs(1- pred_mask)\n",
    "        \n",
    "    masked_image = original_image * pred_mask\n",
    "    \n",
    "    background_mask = np.concatenate([background_mask, background_mask, background_mask], axis=-1)\n",
    "    background_mask = background_mask * [0, 0, 0]\n",
    "    \n",
    "    masked_image = masked_image + background_mask\n",
    "    name = path.split(\"/\")[-1]\n",
    "    cv2.imwrite(f\"{name}.png\", masked_image)"
   ]
  },
  {
   "cell_type": "code",
   "execution_count": 4,
   "metadata": {},
   "outputs": [
    {
     "name": "stdout",
     "output_type": "stream",
     "text": [
      "1/1 [==============================] - 0s 155ms/step\n"
     ]
    },
    {
     "data": {
      "text/plain": [
       "True"
      ]
     },
     "execution_count": 4,
     "metadata": {},
     "output_type": "execute_result"
    }
   ],
   "source": [
    "#model = tf.keras.models.load_model(\"saved_models/unet.h5\")\n",
    "path = 'multispectral_dataset/images/split9_0010.JPG'\n",
    "x = cv2.imread(path, cv2.IMREAD_COLOR)\n",
    "original_image = x\n",
    "for i in range(1,6):\n",
    "        tmp_channel = cv2.imread(\"\".join([path[:-5],f'{i}.TIF']), cv2.IMREAD_GRAYSCALE)\n",
    "        x = cv2.merge((x,tmp_channel))\n",
    "h, w, _ = x.shape\n",
    "\n",
    "x = cv2.resize(x, (256, 256))\n",
    "x = x/255.0\n",
    "x = x.astype(np.float32)\n",
    "x = np.expand_dims(x, axis=0)\n",
    "\n",
    "pred_mask = model.predict(x)[0]\n",
    "pred_mask = cv2.resize(pred_mask, (w, h))\n",
    "pred_mask = np.expand_dims(pred_mask, axis=-1)\n",
    "pred_mask = pred_mask > 0.5\n",
    "    \n",
    "background_mask = np.abs(1- pred_mask)\n",
    "        \n",
    "masked_image = original_image * pred_mask\n",
    "   \n",
    "background_mask = np.concatenate([background_mask, background_mask, background_mask], axis=-1)\n",
    "background_mask = background_mask * [0, 0, 0]\n",
    "    \n",
    "masked_image = masked_image + background_mask\n",
    "cv2.imwrite(\"test.png\", masked_image)"
   ]
  }
 ],
 "metadata": {
  "kernelspec": {
   "display_name": "Python 3 (ipykernel)",
   "language": "python",
   "name": "python3"
  },
  "language_info": {
   "codemirror_mode": {
    "name": "ipython",
    "version": 3
   },
   "file_extension": ".py",
   "mimetype": "text/x-python",
   "name": "python",
   "nbconvert_exporter": "python",
   "pygments_lexer": "ipython3",
   "version": "3.8.10"
  }
 },
 "nbformat": 4,
 "nbformat_minor": 4
}
