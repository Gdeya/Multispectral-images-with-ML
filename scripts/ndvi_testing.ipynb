{
 "cells": [
  {
   "cell_type": "code",
   "execution_count": 1,
   "id": "4fcfe14d",
   "metadata": {},
   "outputs": [],
   "source": [
    "import numpy\n",
    "import cv2"
   ]
  },
  {
   "cell_type": "code",
   "execution_count": 96,
   "id": "acdb649f",
   "metadata": {},
   "outputs": [],
   "source": [
    "nir = cv2.imread('../multispectral_dataset/images/split1_0014.TIF', cv2.IMREAD_GRAYSCALE)"
   ]
  },
  {
   "cell_type": "code",
   "execution_count": 97,
   "id": "9376d60d",
   "metadata": {},
   "outputs": [],
   "source": [
    "b = cv2.imread('../multispectral_dataset/images/split1_0010.JPG')[:,:,0]"
   ]
  },
  {
   "cell_type": "code",
   "execution_count": 98,
   "id": "9db7581c",
   "metadata": {},
   "outputs": [],
   "source": [
    "nir = nir.astype(float)"
   ]
  },
  {
   "cell_type": "code",
   "execution_count": 99,
   "id": "907f804e",
   "metadata": {},
   "outputs": [],
   "source": [
    "b = b.astype(float)"
   ]
  },
  {
   "cell_type": "code",
   "execution_count": 100,
   "id": "1187943f",
   "metadata": {},
   "outputs": [],
   "source": [
    "ndvi = (nir - b)/(nir + b + 0.001)"
   ]
  },
  {
   "cell_type": "code",
   "execution_count": 82,
   "id": "89f811d0",
   "metadata": {},
   "outputs": [],
   "source": [
    "ndvi = (ndvi - ndvi.min())*255"
   ]
  },
  {
   "cell_type": "code",
   "execution_count": 83,
   "id": "fad96034",
   "metadata": {},
   "outputs": [
    {
     "data": {
      "text/plain": [
       "array([[149.69395796, 157.1684342 , 136.72142243, ...,  94.40691611,\n",
       "         77.10646308,  76.433427  ],\n",
       "       [140.62798306, 130.63479571, 103.12177168, ..., 102.2645127 ,\n",
       "         93.15380216,  78.71494239],\n",
       "       [116.38490806,  80.88799547,  58.3852048 , ..., 116.14625742,\n",
       "         90.39061681,  77.22292039],\n",
       "       ...,\n",
       "       [113.85855728, 111.327781  , 105.13500705, ...,  95.71660335,\n",
       "         74.31772309,  65.25733915],\n",
       "       [113.93033403, 108.41351194, 119.58494791, ...,  89.95637509,\n",
       "         71.85251215,  68.58500835],\n",
       "       [112.12682697, 111.26336152, 143.38481353, ...,  92.62436361,\n",
       "         71.35867304,  76.15771391]])"
      ]
     },
     "execution_count": 83,
     "metadata": {},
     "output_type": "execute_result"
    }
   ],
   "source": [
    "ndvi"
   ]
  },
  {
   "cell_type": "code",
   "execution_count": 50,
   "id": "72a182df",
   "metadata": {},
   "outputs": [],
   "source": [
    "import matplotlib.pyplot as plt"
   ]
  },
  {
   "cell_type": "code",
   "execution_count": 101,
   "id": "3b7677d7",
   "metadata": {},
   "outputs": [],
   "source": [
    "plt.imsave('huy.JPG',ndvi, cmap=plt.cm.RdYlGn)"
   ]
  }
 ],
 "metadata": {
  "kernelspec": {
   "display_name": "Python 3 (ipykernel)",
   "language": "python",
   "name": "python3"
  },
  "language_info": {
   "codemirror_mode": {
    "name": "ipython",
    "version": 3
   },
   "file_extension": ".py",
   "mimetype": "text/x-python",
   "name": "python",
   "nbconvert_exporter": "python",
   "pygments_lexer": "ipython3",
   "version": "3.9.12"
  }
 },
 "nbformat": 4,
 "nbformat_minor": 5
}
